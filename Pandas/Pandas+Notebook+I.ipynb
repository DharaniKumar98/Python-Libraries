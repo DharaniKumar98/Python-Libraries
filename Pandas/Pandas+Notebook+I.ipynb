{
 "cells": [
  {
   "cell_type": "markdown",
   "metadata": {},
   "source": [
    "## Python Libraries - Pandas - Pandas Basics"
   ]
  },
  {
   "cell_type": "markdown",
   "metadata": {},
   "source": [
    "Pandas is a library built using NumPy specifically for data analysis. You'll be using Pandas heavily for data manipulation, visualisation, building machine learning models, etc. \n",
    "\n",
    "There are two main data structures in Pandas:\n",
    "- Series\n",
    "- Dataframes \n",
    "\n",
    "The default way to store data is dataframes, and thus manipulating dataframes quickly is probably the most important skill set for data analysis."
   ]
  },
  {
   "cell_type": "code",
   "execution_count": 18,
   "metadata": {},
   "outputs": [
    {
     "name": "stderr",
     "output_type": "stream",
     "text": [
      "C:\\Users\\Dell\\AppData\\Local\\Temp\\ipykernel_19960\\931749177.py:1: FutureWarning: Values are too large to be losslessly cast to int64. In a future version this will raise OverflowError. To retain the old behavior, use pd.Series(values).astype(int64)\n",
      "  pd.Series([1,2.2,3,'4' ,True] , dtype= 'int64')\n"
     ]
    },
    {
     "data": {
      "text/plain": [
       "0    1\n",
       "1    2\n",
       "2    3\n",
       "3    4\n",
       "4    1\n",
       "dtype: int64"
      ]
     },
     "execution_count": 18,
     "metadata": {},
     "output_type": "execute_result"
    }
   ],
   "source": [
    "pd.Series([1,2.2,3,'4' ,True] , dtype= 'int64')"
   ]
  },
  {
   "cell_type": "code",
   "execution_count": 7,
   "metadata": {},
   "outputs": [],
   "source": [
    "# import pandas, pd is an alias\n",
    "import numpy as np\n",
    "import pandas as pd"
   ]
  },
  {
   "cell_type": "markdown",
   "metadata": {},
   "source": [
    "### The Pandas Series \n",
    "\n",
    "A series is similar to a 1-D numpy array, and contains scalar values of the same type (numeric, character, datetime etc.). \n",
    "A dataframe is simply a table where each column is a pandas series.\n"
   ]
  },
  {
   "cell_type": "code",
   "execution_count": 21,
   "metadata": {},
   "outputs": [
    {
     "name": "stdout",
     "output_type": "stream",
     "text": [
      "0    2\n",
      "1    4\n",
      "2    5\n",
      "3    6\n",
      "4    9\n",
      "dtype: int64\n",
      "<class 'pandas.core.series.Series'>\n"
     ]
    }
   ],
   "source": [
    "# Creating a numeric pandas series\n",
    "s = pd.Series([2, 4, 5, 6, 9])\n",
    "print(s)\n",
    "print(type(s))"
   ]
  },
  {
   "cell_type": "code",
   "execution_count": 28,
   "metadata": {},
   "outputs": [
    {
     "data": {
      "text/plain": [
       "0    2017-11-09\n",
       "1    2017-11-10\n",
       "2    2017-11-11\n",
       "3    2017-11-12\n",
       "4    2017-11-13\n",
       "5    2017-11-14\n",
       "6    2017-11-15\n",
       "7    2017-11-16\n",
       "8    2017-11-17\n",
       "9    2017-11-18\n",
       "10   2017-11-19\n",
       "11   2017-11-20\n",
       "12   2017-11-21\n",
       "13   2017-11-22\n",
       "14   2017-11-23\n",
       "15   2017-11-24\n",
       "16   2017-11-25\n",
       "17   2017-11-26\n",
       "18   2017-11-27\n",
       "19   2017-11-28\n",
       "20   2017-11-29\n",
       "21   2017-11-30\n",
       "22   2017-12-01\n",
       "23   2017-12-02\n",
       "24   2017-12-03\n",
       "25   2017-12-04\n",
       "26   2017-12-05\n",
       "27   2017-12-06\n",
       "28   2017-12-07\n",
       "29   2017-12-08\n",
       "30   2017-12-09\n",
       "31   2017-12-10\n",
       "32   2017-12-11\n",
       "33   2017-12-12\n",
       "dtype: datetime64[ns]"
      ]
     },
     "execution_count": 28,
     "metadata": {},
     "output_type": "execute_result"
    }
   ],
   "source": [
    "# creating a series of type datetime\n",
    "date_series = pd.date_range(start = '11-09-2017', end = '12-12-2017')\n",
    "pd.Series(date_series)\n",
    "#type(date_series)"
   ]
  },
  {
   "cell_type": "markdown",
   "metadata": {},
   "source": [
    "Note that each element in the Series has an index, and the index starts at 0 as usual."
   ]
  },
  {
   "cell_type": "markdown",
   "metadata": {},
   "source": [
    "### The Pandas Dataframe \n",
    "\n",
    "Dataframe is the most widely used data-structure in data analysis. It is a table with rows and columns, with rows having an index and columns having meaningful names.\n",
    "\n",
    "There are various ways of creating dataframes, such as creating them from dictionaries, JSON objects, reading from txt, CSV files, etc. "
   ]
  },
  {
   "cell_type": "markdown",
   "metadata": {},
   "source": [
    "Dataframe is a 2-D heterogenous data structure with labeled axes named as rows and columns"
   ]
  },
  {
   "cell_type": "markdown",
   "metadata": {},
   "source": [
    "#### Creating dataframes from dictionaries"
   ]
  },
  {
   "cell_type": "code",
   "execution_count": 29,
   "metadata": {},
   "outputs": [],
   "source": [
    "# Defining data to create lists for dictionary\n",
    "cars_per_cap = [809, 731, 588, 18, 200, 70, 45]\n",
    "country = ['United States', 'Australia', 'Japan', 'India', 'Russia', 'Morocco', 'Egypt']\n",
    "drives_right = [False, True, True, True, False, False, False]"
   ]
  },
  {
   "cell_type": "code",
   "execution_count": 32,
   "metadata": {},
   "outputs": [],
   "source": [
    "# Creating the dictionaries to store the entries as key-value pair.\n",
    "cars_dict = {\"cars_per_cap\" : cars_per_cap, \"country\" : country, \"drives_right\" : drives_right }\n",
    "\n",
    "# Create the dataframe 'cars'\n",
    "cars = pd.DataFrame(cars_dict)"
   ]
  },
  {
   "cell_type": "code",
   "execution_count": 33,
   "metadata": {},
   "outputs": [
    {
     "data": {
      "text/html": [
       "<div><div id=c040052e-be9c-49a2-aee7-2b4e9f7cd610 style=\"display:none; background-color:#9D6CFF; color:white; width:200px; height:30px; padding-left:5px; border-radius:4px; flex-direction:row; justify-content:space-around; align-items:center;\" onmouseover=\"this.style.backgroundColor='#BA9BF8'\" onmouseout=\"this.style.backgroundColor='#9D6CFF'\" onclick=\"window.commands?.execute('create-mitosheet-from-dataframe-output');\">See Full Dataframe in Mito</div> <script> if (window.commands.hasCommand('create-mitosheet-from-dataframe-output')) document.getElementById('c040052e-be9c-49a2-aee7-2b4e9f7cd610').style.display = 'flex' </script> <table border=\"1\" class=\"dataframe\">\n",
       "  <thead>\n",
       "    <tr style=\"text-align: right;\">\n",
       "      <th></th>\n",
       "      <th>cars_per_cap</th>\n",
       "      <th>country</th>\n",
       "      <th>drives_right</th>\n",
       "    </tr>\n",
       "  </thead>\n",
       "  <tbody>\n",
       "    <tr>\n",
       "      <th>0</th>\n",
       "      <td>809</td>\n",
       "      <td>United States</td>\n",
       "      <td>False</td>\n",
       "    </tr>\n",
       "    <tr>\n",
       "      <th>1</th>\n",
       "      <td>731</td>\n",
       "      <td>Australia</td>\n",
       "      <td>True</td>\n",
       "    </tr>\n",
       "    <tr>\n",
       "      <th>2</th>\n",
       "      <td>588</td>\n",
       "      <td>Japan</td>\n",
       "      <td>True</td>\n",
       "    </tr>\n",
       "    <tr>\n",
       "      <th>3</th>\n",
       "      <td>18</td>\n",
       "      <td>India</td>\n",
       "      <td>True</td>\n",
       "    </tr>\n",
       "    <tr>\n",
       "      <th>4</th>\n",
       "      <td>200</td>\n",
       "      <td>Russia</td>\n",
       "      <td>False</td>\n",
       "    </tr>\n",
       "    <tr>\n",
       "      <th>5</th>\n",
       "      <td>70</td>\n",
       "      <td>Morocco</td>\n",
       "      <td>False</td>\n",
       "    </tr>\n",
       "    <tr>\n",
       "      <th>6</th>\n",
       "      <td>45</td>\n",
       "      <td>Egypt</td>\n",
       "      <td>False</td>\n",
       "    </tr>\n",
       "  </tbody>\n",
       "</table></div>"
      ],
      "text/plain": [
       "   cars_per_cap        country  drives_right\n",
       "0           809  United States         False\n",
       "1           731      Australia          True\n",
       "2           588          Japan          True\n",
       "3            18          India          True\n",
       "4           200         Russia         False\n",
       "5            70        Morocco         False\n",
       "6            45          Egypt         False"
      ]
     },
     "execution_count": 33,
     "metadata": {},
     "output_type": "execute_result"
    }
   ],
   "source": [
    "# print the created dataframe\n",
    "cars"
   ]
  },
  {
   "cell_type": "markdown",
   "metadata": {},
   "source": [
    "#### Importing CSV data files as pandas dataframes \n",
    "\n",
    "For the upcoming exercises, we will use a car dataset which holds the following information:\n",
    "\n",
    "- Region Code \n",
    "- Country\n",
    "- Coutry Code\n",
    "- Car per capita\n",
    "- Drives Right"
   ]
  },
  {
   "cell_type": "code",
   "execution_count": 37,
   "metadata": {},
   "outputs": [
    {
     "data": {
      "text/html": [
       "<div><div id=c17fc29d-8963-4219-a16e-3673db22a2cc style=\"display:none; background-color:#9D6CFF; color:white; width:200px; height:30px; padding-left:5px; border-radius:4px; flex-direction:row; justify-content:space-around; align-items:center;\" onmouseover=\"this.style.backgroundColor='#BA9BF8'\" onmouseout=\"this.style.backgroundColor='#9D6CFF'\" onclick=\"window.commands?.execute('create-mitosheet-from-dataframe-output');\">See Full Dataframe in Mito</div> <script> if (window.commands.hasCommand('create-mitosheet-from-dataframe-output')) document.getElementById('c17fc29d-8963-4219-a16e-3673db22a2cc').style.display = 'flex' </script> <table border=\"1\" class=\"dataframe\">\n",
       "  <thead>\n",
       "    <tr style=\"text-align: right;\">\n",
       "      <th></th>\n",
       "      <th>USCA</th>\n",
       "      <th>US</th>\n",
       "      <th>United States</th>\n",
       "      <th>809</th>\n",
       "      <th>FALSE</th>\n",
       "    </tr>\n",
       "  </thead>\n",
       "  <tbody>\n",
       "    <tr>\n",
       "      <th>0</th>\n",
       "      <td>ASPAC</td>\n",
       "      <td>AUS</td>\n",
       "      <td>Australia</td>\n",
       "      <td>731.0</td>\n",
       "      <td>True</td>\n",
       "    </tr>\n",
       "    <tr>\n",
       "      <th>1</th>\n",
       "      <td>ASPAC</td>\n",
       "      <td>JAP</td>\n",
       "      <td>Japan</td>\n",
       "      <td>588.0</td>\n",
       "      <td>True</td>\n",
       "    </tr>\n",
       "    <tr>\n",
       "      <th>2</th>\n",
       "      <td>ASPAC</td>\n",
       "      <td>IN</td>\n",
       "      <td>India</td>\n",
       "      <td>18.0</td>\n",
       "      <td>True</td>\n",
       "    </tr>\n",
       "    <tr>\n",
       "      <th>3</th>\n",
       "      <td>ASPAC</td>\n",
       "      <td>RU</td>\n",
       "      <td>Russia</td>\n",
       "      <td>200.0</td>\n",
       "      <td>False</td>\n",
       "    </tr>\n",
       "    <tr>\n",
       "      <th>4</th>\n",
       "      <td>LATAM</td>\n",
       "      <td>MOR</td>\n",
       "      <td>Morocco</td>\n",
       "      <td>70.0</td>\n",
       "      <td>False</td>\n",
       "    </tr>\n",
       "    <tr>\n",
       "      <th>5</th>\n",
       "      <td>AFR</td>\n",
       "      <td>EG</td>\n",
       "      <td>Egypt</td>\n",
       "      <td>45.0</td>\n",
       "      <td>False</td>\n",
       "    </tr>\n",
       "    <tr>\n",
       "      <th>6</th>\n",
       "      <td>EUR</td>\n",
       "      <td>ENG</td>\n",
       "      <td>England</td>\n",
       "      <td>NaN</td>\n",
       "      <td>True</td>\n",
       "    </tr>\n",
       "  </tbody>\n",
       "</table></div>"
      ],
      "text/plain": [
       "    USCA   US United States    809  FALSE\n",
       "0  ASPAC  AUS     Australia  731.0   True\n",
       "1  ASPAC  JAP         Japan  588.0   True\n",
       "2  ASPAC   IN         India   18.0   True\n",
       "3  ASPAC   RU        Russia  200.0  False\n",
       "4  LATAM  MOR       Morocco   70.0  False\n",
       "5    AFR   EG         Egypt   45.0  False\n",
       "6    EUR  ENG       England    NaN   True"
      ]
     },
     "execution_count": 37,
     "metadata": {},
     "output_type": "execute_result"
    }
   ],
   "source": [
    "# read the data from the csv file\n",
    "cars =pd.read_csv(r'C:\\Users\\Dell\\Desktop\\Pandas\\cars.csv')\n",
    "\n",
    "# check the dataframe created\n",
    "cars"
   ]
  },
  {
   "cell_type": "markdown",
   "metadata": {},
   "source": [
    "As you can see from the dataframe above, the first row has been taken as the column header for the dataframe. Let's see how to prevent that."
   ]
  },
  {
   "cell_type": "code",
   "execution_count": 38,
   "metadata": {},
   "outputs": [
    {
     "data": {
      "text/html": [
       "<div><div id=98dea8a5-4b6f-481d-ba3b-d6d4d688d516 style=\"display:none; background-color:#9D6CFF; color:white; width:200px; height:30px; padding-left:5px; border-radius:4px; flex-direction:row; justify-content:space-around; align-items:center;\" onmouseover=\"this.style.backgroundColor='#BA9BF8'\" onmouseout=\"this.style.backgroundColor='#9D6CFF'\" onclick=\"window.commands?.execute('create-mitosheet-from-dataframe-output');\">See Full Dataframe in Mito</div> <script> if (window.commands.hasCommand('create-mitosheet-from-dataframe-output')) document.getElementById('98dea8a5-4b6f-481d-ba3b-d6d4d688d516').style.display = 'flex' </script> <table border=\"1\" class=\"dataframe\">\n",
       "  <thead>\n",
       "    <tr style=\"text-align: right;\">\n",
       "      <th></th>\n",
       "      <th>0</th>\n",
       "      <th>1</th>\n",
       "      <th>2</th>\n",
       "      <th>3</th>\n",
       "      <th>4</th>\n",
       "    </tr>\n",
       "  </thead>\n",
       "  <tbody>\n",
       "    <tr>\n",
       "      <th>0</th>\n",
       "      <td>USCA</td>\n",
       "      <td>US</td>\n",
       "      <td>United States</td>\n",
       "      <td>809.0</td>\n",
       "      <td>False</td>\n",
       "    </tr>\n",
       "    <tr>\n",
       "      <th>1</th>\n",
       "      <td>ASPAC</td>\n",
       "      <td>AUS</td>\n",
       "      <td>Australia</td>\n",
       "      <td>731.0</td>\n",
       "      <td>True</td>\n",
       "    </tr>\n",
       "    <tr>\n",
       "      <th>2</th>\n",
       "      <td>ASPAC</td>\n",
       "      <td>JAP</td>\n",
       "      <td>Japan</td>\n",
       "      <td>588.0</td>\n",
       "      <td>True</td>\n",
       "    </tr>\n",
       "    <tr>\n",
       "      <th>3</th>\n",
       "      <td>ASPAC</td>\n",
       "      <td>IN</td>\n",
       "      <td>India</td>\n",
       "      <td>18.0</td>\n",
       "      <td>True</td>\n",
       "    </tr>\n",
       "    <tr>\n",
       "      <th>4</th>\n",
       "      <td>ASPAC</td>\n",
       "      <td>RU</td>\n",
       "      <td>Russia</td>\n",
       "      <td>200.0</td>\n",
       "      <td>False</td>\n",
       "    </tr>\n",
       "    <tr>\n",
       "      <th>5</th>\n",
       "      <td>LATAM</td>\n",
       "      <td>MOR</td>\n",
       "      <td>Morocco</td>\n",
       "      <td>70.0</td>\n",
       "      <td>False</td>\n",
       "    </tr>\n",
       "    <tr>\n",
       "      <th>6</th>\n",
       "      <td>AFR</td>\n",
       "      <td>EG</td>\n",
       "      <td>Egypt</td>\n",
       "      <td>45.0</td>\n",
       "      <td>False</td>\n",
       "    </tr>\n",
       "    <tr>\n",
       "      <th>7</th>\n",
       "      <td>EUR</td>\n",
       "      <td>ENG</td>\n",
       "      <td>England</td>\n",
       "      <td>NaN</td>\n",
       "      <td>True</td>\n",
       "    </tr>\n",
       "  </tbody>\n",
       "</table></div>"
      ],
      "text/plain": [
       "       0    1              2      3      4\n",
       "0   USCA   US  United States  809.0  False\n",
       "1  ASPAC  AUS      Australia  731.0   True\n",
       "2  ASPAC  JAP          Japan  588.0   True\n",
       "3  ASPAC   IN          India   18.0   True\n",
       "4  ASPAC   RU         Russia  200.0  False\n",
       "5  LATAM  MOR        Morocco   70.0  False\n",
       "6    AFR   EG          Egypt   45.0  False\n",
       "7    EUR  ENG        England    NaN   True"
      ]
     },
     "execution_count": 38,
     "metadata": {},
     "output_type": "execute_result"
    }
   ],
   "source": [
    "# load the dataframe from the csv without any header\n",
    "cars = pd.read_csv(r'C:\\Users\\Dell\\Desktop\\Pandas\\cars.csv',header= None)\n",
    "\n",
    "# check the dataframe created\n",
    "cars"
   ]
  },
  {
   "cell_type": "markdown",
   "metadata": {},
   "source": [
    "Now, the columns have the labels as 0, 1, 2, etc. The top row is now considered as a part of the row entries."
   ]
  },
  {
   "cell_type": "markdown",
   "metadata": {},
   "source": [
    " "
   ]
  },
  {
   "cell_type": "markdown",
   "metadata": {},
   "source": [
    "## Python Libraries - Pandas - Rows and Columns"
   ]
  },
  {
   "cell_type": "markdown",
   "metadata": {},
   "source": [
    "### Indices and Labels"
   ]
  },
  {
   "cell_type": "markdown",
   "metadata": {},
   "source": [
    "#### Indices \n",
    "\n",
    "An important concept in pandas dataframes is that of *row indices*. By default, each row is assigned indices starting from 0, and are represented at the left side of the dataframe. \n",
    "\n",
    "Now, arbitrary numeric indices are difficult to read and work with. Thus, you may want to change the indices of the dataframe to something more meanigful.\n",
    "\n",
    "Let's change the index to the second column which stores the country codes, so that you can select rows using the country code directly."
   ]
  },
  {
   "cell_type": "code",
   "execution_count": 39,
   "metadata": {},
   "outputs": [
    {
     "data": {
      "text/html": [
       "<div><div id=d18a1ce3-0254-4cc0-a408-a8d6cb1ae9b7 style=\"display:none; background-color:#9D6CFF; color:white; width:200px; height:30px; padding-left:5px; border-radius:4px; flex-direction:row; justify-content:space-around; align-items:center;\" onmouseover=\"this.style.backgroundColor='#BA9BF8'\" onmouseout=\"this.style.backgroundColor='#9D6CFF'\" onclick=\"window.commands?.execute('create-mitosheet-from-dataframe-output');\">See Full Dataframe in Mito</div> <script> if (window.commands.hasCommand('create-mitosheet-from-dataframe-output')) document.getElementById('d18a1ce3-0254-4cc0-a408-a8d6cb1ae9b7').style.display = 'flex' </script> <table border=\"1\" class=\"dataframe\">\n",
       "  <thead>\n",
       "    <tr style=\"text-align: right;\">\n",
       "      <th></th>\n",
       "      <th>0</th>\n",
       "      <th>2</th>\n",
       "      <th>3</th>\n",
       "      <th>4</th>\n",
       "    </tr>\n",
       "    <tr>\n",
       "      <th>1</th>\n",
       "      <th></th>\n",
       "      <th></th>\n",
       "      <th></th>\n",
       "      <th></th>\n",
       "    </tr>\n",
       "  </thead>\n",
       "  <tbody>\n",
       "    <tr>\n",
       "      <th>US</th>\n",
       "      <td>USCA</td>\n",
       "      <td>United States</td>\n",
       "      <td>809.0</td>\n",
       "      <td>False</td>\n",
       "    </tr>\n",
       "    <tr>\n",
       "      <th>AUS</th>\n",
       "      <td>ASPAC</td>\n",
       "      <td>Australia</td>\n",
       "      <td>731.0</td>\n",
       "      <td>True</td>\n",
       "    </tr>\n",
       "    <tr>\n",
       "      <th>JAP</th>\n",
       "      <td>ASPAC</td>\n",
       "      <td>Japan</td>\n",
       "      <td>588.0</td>\n",
       "      <td>True</td>\n",
       "    </tr>\n",
       "    <tr>\n",
       "      <th>IN</th>\n",
       "      <td>ASPAC</td>\n",
       "      <td>India</td>\n",
       "      <td>18.0</td>\n",
       "      <td>True</td>\n",
       "    </tr>\n",
       "    <tr>\n",
       "      <th>RU</th>\n",
       "      <td>ASPAC</td>\n",
       "      <td>Russia</td>\n",
       "      <td>200.0</td>\n",
       "      <td>False</td>\n",
       "    </tr>\n",
       "    <tr>\n",
       "      <th>MOR</th>\n",
       "      <td>LATAM</td>\n",
       "      <td>Morocco</td>\n",
       "      <td>70.0</td>\n",
       "      <td>False</td>\n",
       "    </tr>\n",
       "    <tr>\n",
       "      <th>EG</th>\n",
       "      <td>AFR</td>\n",
       "      <td>Egypt</td>\n",
       "      <td>45.0</td>\n",
       "      <td>False</td>\n",
       "    </tr>\n",
       "    <tr>\n",
       "      <th>ENG</th>\n",
       "      <td>EUR</td>\n",
       "      <td>England</td>\n",
       "      <td>NaN</td>\n",
       "      <td>True</td>\n",
       "    </tr>\n",
       "  </tbody>\n",
       "</table></div>"
      ],
      "text/plain": [
       "         0              2      3      4\n",
       "1                                      \n",
       "US    USCA  United States  809.0  False\n",
       "AUS  ASPAC      Australia  731.0   True\n",
       "JAP  ASPAC          Japan  588.0   True\n",
       "IN   ASPAC          India   18.0   True\n",
       "RU   ASPAC         Russia  200.0  False\n",
       "MOR  LATAM        Morocco   70.0  False\n",
       "EG     AFR          Egypt   45.0  False\n",
       "ENG    EUR        England    NaN   True"
      ]
     },
     "execution_count": 39,
     "metadata": {},
     "output_type": "execute_result"
    }
   ],
   "source": [
    "# load the data into a dataframe with no header and index column as the second column\n",
    "cars = pd.read_csv(r'C:\\Users\\Dell\\Desktop\\Pandas\\cars.csv',header= None , index_col =1)\n",
    "\n",
    "# Check the created dataframe\n",
    "cars"
   ]
  },
  {
   "cell_type": "code",
   "execution_count": 42,
   "metadata": {},
   "outputs": [
    {
     "name": "stdout",
     "output_type": "stream",
     "text": [
      "1\n"
     ]
    }
   ],
   "source": [
    "# Print the label of the index column\n",
    "print(cars.index.name)"
   ]
  },
  {
   "cell_type": "code",
   "execution_count": 44,
   "metadata": {},
   "outputs": [
    {
     "data": {
      "text/html": [
       "<div><div id=fa9497f8-7f4a-4bdb-b85c-c1b3372abf20 style=\"display:none; background-color:#9D6CFF; color:white; width:200px; height:30px; padding-left:5px; border-radius:4px; flex-direction:row; justify-content:space-around; align-items:center;\" onmouseover=\"this.style.backgroundColor='#BA9BF8'\" onmouseout=\"this.style.backgroundColor='#9D6CFF'\" onclick=\"window.commands?.execute('create-mitosheet-from-dataframe-output');\">See Full Dataframe in Mito</div> <script> if (window.commands.hasCommand('create-mitosheet-from-dataframe-output')) document.getElementById('fa9497f8-7f4a-4bdb-b85c-c1b3372abf20').style.display = 'flex' </script> <table border=\"1\" class=\"dataframe\">\n",
       "  <thead>\n",
       "    <tr style=\"text-align: right;\">\n",
       "      <th></th>\n",
       "      <th>0</th>\n",
       "      <th>2</th>\n",
       "      <th>3</th>\n",
       "      <th>4</th>\n",
       "    </tr>\n",
       "  </thead>\n",
       "  <tbody>\n",
       "    <tr>\n",
       "      <th>US</th>\n",
       "      <td>USCA</td>\n",
       "      <td>United States</td>\n",
       "      <td>809.0</td>\n",
       "      <td>False</td>\n",
       "    </tr>\n",
       "    <tr>\n",
       "      <th>AUS</th>\n",
       "      <td>ASPAC</td>\n",
       "      <td>Australia</td>\n",
       "      <td>731.0</td>\n",
       "      <td>True</td>\n",
       "    </tr>\n",
       "    <tr>\n",
       "      <th>JAP</th>\n",
       "      <td>ASPAC</td>\n",
       "      <td>Japan</td>\n",
       "      <td>588.0</td>\n",
       "      <td>True</td>\n",
       "    </tr>\n",
       "    <tr>\n",
       "      <th>IN</th>\n",
       "      <td>ASPAC</td>\n",
       "      <td>India</td>\n",
       "      <td>18.0</td>\n",
       "      <td>True</td>\n",
       "    </tr>\n",
       "    <tr>\n",
       "      <th>RU</th>\n",
       "      <td>ASPAC</td>\n",
       "      <td>Russia</td>\n",
       "      <td>200.0</td>\n",
       "      <td>False</td>\n",
       "    </tr>\n",
       "    <tr>\n",
       "      <th>MOR</th>\n",
       "      <td>LATAM</td>\n",
       "      <td>Morocco</td>\n",
       "      <td>70.0</td>\n",
       "      <td>False</td>\n",
       "    </tr>\n",
       "    <tr>\n",
       "      <th>EG</th>\n",
       "      <td>AFR</td>\n",
       "      <td>Egypt</td>\n",
       "      <td>45.0</td>\n",
       "      <td>False</td>\n",
       "    </tr>\n",
       "    <tr>\n",
       "      <th>ENG</th>\n",
       "      <td>EUR</td>\n",
       "      <td>England</td>\n",
       "      <td>NaN</td>\n",
       "      <td>True</td>\n",
       "    </tr>\n",
       "  </tbody>\n",
       "</table></div>"
      ],
      "text/plain": [
       "         0              2      3      4\n",
       "US    USCA  United States  809.0  False\n",
       "AUS  ASPAC      Australia  731.0   True\n",
       "JAP  ASPAC          Japan  588.0   True\n",
       "IN   ASPAC          India   18.0   True\n",
       "RU   ASPAC         Russia  200.0  False\n",
       "MOR  LATAM        Morocco   70.0  False\n",
       "EG     AFR          Egypt   45.0  False\n",
       "ENG    EUR        England    NaN   True"
      ]
     },
     "execution_count": 44,
     "metadata": {},
     "output_type": "execute_result"
    }
   ],
   "source": [
    "# Remove the label of the index column\n",
    "cars.index.name = None\n",
    "cars"
   ]
  },
  {
   "cell_type": "code",
   "execution_count": 45,
   "metadata": {},
   "outputs": [
    {
     "data": {
      "text/html": [
       "<div><div id=93a0879f-9624-4abd-a408-d3b9eabbb28d style=\"display:none; background-color:#9D6CFF; color:white; width:200px; height:30px; padding-left:5px; border-radius:4px; flex-direction:row; justify-content:space-around; align-items:center;\" onmouseover=\"this.style.backgroundColor='#BA9BF8'\" onmouseout=\"this.style.backgroundColor='#9D6CFF'\" onclick=\"window.commands?.execute('create-mitosheet-from-dataframe-output');\">See Full Dataframe in Mito</div> <script> if (window.commands.hasCommand('create-mitosheet-from-dataframe-output')) document.getElementById('93a0879f-9624-4abd-a408-d3b9eabbb28d').style.display = 'flex' </script> <table border=\"1\" class=\"dataframe\">\n",
       "  <thead>\n",
       "    <tr style=\"text-align: right;\">\n",
       "      <th></th>\n",
       "      <th>0</th>\n",
       "      <th>2</th>\n",
       "      <th>3</th>\n",
       "      <th>4</th>\n",
       "    </tr>\n",
       "  </thead>\n",
       "  <tbody>\n",
       "    <tr>\n",
       "      <th>US</th>\n",
       "      <td>USCA</td>\n",
       "      <td>United States</td>\n",
       "      <td>809.0</td>\n",
       "      <td>False</td>\n",
       "    </tr>\n",
       "    <tr>\n",
       "      <th>AUS</th>\n",
       "      <td>ASPAC</td>\n",
       "      <td>Australia</td>\n",
       "      <td>731.0</td>\n",
       "      <td>True</td>\n",
       "    </tr>\n",
       "    <tr>\n",
       "      <th>JAP</th>\n",
       "      <td>ASPAC</td>\n",
       "      <td>Japan</td>\n",
       "      <td>588.0</td>\n",
       "      <td>True</td>\n",
       "    </tr>\n",
       "    <tr>\n",
       "      <th>IN</th>\n",
       "      <td>ASPAC</td>\n",
       "      <td>India</td>\n",
       "      <td>18.0</td>\n",
       "      <td>True</td>\n",
       "    </tr>\n",
       "    <tr>\n",
       "      <th>RU</th>\n",
       "      <td>ASPAC</td>\n",
       "      <td>Russia</td>\n",
       "      <td>200.0</td>\n",
       "      <td>False</td>\n",
       "    </tr>\n",
       "    <tr>\n",
       "      <th>MOR</th>\n",
       "      <td>LATAM</td>\n",
       "      <td>Morocco</td>\n",
       "      <td>70.0</td>\n",
       "      <td>False</td>\n",
       "    </tr>\n",
       "    <tr>\n",
       "      <th>EG</th>\n",
       "      <td>AFR</td>\n",
       "      <td>Egypt</td>\n",
       "      <td>45.0</td>\n",
       "      <td>False</td>\n",
       "    </tr>\n",
       "    <tr>\n",
       "      <th>ENG</th>\n",
       "      <td>EUR</td>\n",
       "      <td>England</td>\n",
       "      <td>NaN</td>\n",
       "      <td>True</td>\n",
       "    </tr>\n",
       "  </tbody>\n",
       "</table></div>"
      ],
      "text/plain": [
       "         0              2      3      4\n",
       "US    USCA  United States  809.0  False\n",
       "AUS  ASPAC      Australia  731.0   True\n",
       "JAP  ASPAC          Japan  588.0   True\n",
       "IN   ASPAC          India   18.0   True\n",
       "RU   ASPAC         Russia  200.0  False\n",
       "MOR  LATAM        Morocco   70.0  False\n",
       "EG     AFR          Egypt   45.0  False\n",
       "ENG    EUR        England    NaN   True"
      ]
     },
     "execution_count": 45,
     "metadata": {},
     "output_type": "execute_result"
    }
   ],
   "source": [
    "# Check the created dataframe\n",
    "cars"
   ]
  },
  {
   "cell_type": "markdown",
   "metadata": {},
   "source": [
    "Having meaningful row labels as indices helps you to select (subset) dataframes easily. You will study selecting dataframes in the next section. Let's now try to change the column headers."
   ]
  },
  {
   "cell_type": "markdown",
   "metadata": {},
   "source": [
    "#### Column headers"
   ]
  },
  {
   "cell_type": "code",
   "execution_count": 46,
   "metadata": {},
   "outputs": [
    {
     "data": {
      "text/plain": [
       "Int64Index([0, 2, 3, 4], dtype='int64')"
      ]
     },
     "execution_count": 46,
     "metadata": {},
     "output_type": "execute_result"
    }
   ],
   "source": [
    "# Print the column headers of the dataframe\n",
    "cars.columns"
   ]
  },
  {
   "cell_type": "code",
   "execution_count": 47,
   "metadata": {},
   "outputs": [
    {
     "data": {
      "text/html": [
       "<div><div id=14f52ee3-a18b-4799-81fb-f7271cefe440 style=\"display:none; background-color:#9D6CFF; color:white; width:200px; height:30px; padding-left:5px; border-radius:4px; flex-direction:row; justify-content:space-around; align-items:center;\" onmouseover=\"this.style.backgroundColor='#BA9BF8'\" onmouseout=\"this.style.backgroundColor='#9D6CFF'\" onclick=\"window.commands?.execute('create-mitosheet-from-dataframe-output');\">See Full Dataframe in Mito</div> <script> if (window.commands.hasCommand('create-mitosheet-from-dataframe-output')) document.getElementById('14f52ee3-a18b-4799-81fb-f7271cefe440').style.display = 'flex' </script> <table border=\"1\" class=\"dataframe\">\n",
       "  <thead>\n",
       "    <tr style=\"text-align: right;\">\n",
       "      <th></th>\n",
       "      <th>Region_code</th>\n",
       "      <th>Country_Name</th>\n",
       "      <th>Cars per capita</th>\n",
       "      <th>Drives Right</th>\n",
       "    </tr>\n",
       "  </thead>\n",
       "  <tbody>\n",
       "    <tr>\n",
       "      <th>US</th>\n",
       "      <td>USCA</td>\n",
       "      <td>United States</td>\n",
       "      <td>809.0</td>\n",
       "      <td>False</td>\n",
       "    </tr>\n",
       "    <tr>\n",
       "      <th>AUS</th>\n",
       "      <td>ASPAC</td>\n",
       "      <td>Australia</td>\n",
       "      <td>731.0</td>\n",
       "      <td>True</td>\n",
       "    </tr>\n",
       "    <tr>\n",
       "      <th>JAP</th>\n",
       "      <td>ASPAC</td>\n",
       "      <td>Japan</td>\n",
       "      <td>588.0</td>\n",
       "      <td>True</td>\n",
       "    </tr>\n",
       "    <tr>\n",
       "      <th>IN</th>\n",
       "      <td>ASPAC</td>\n",
       "      <td>India</td>\n",
       "      <td>18.0</td>\n",
       "      <td>True</td>\n",
       "    </tr>\n",
       "    <tr>\n",
       "      <th>RU</th>\n",
       "      <td>ASPAC</td>\n",
       "      <td>Russia</td>\n",
       "      <td>200.0</td>\n",
       "      <td>False</td>\n",
       "    </tr>\n",
       "    <tr>\n",
       "      <th>MOR</th>\n",
       "      <td>LATAM</td>\n",
       "      <td>Morocco</td>\n",
       "      <td>70.0</td>\n",
       "      <td>False</td>\n",
       "    </tr>\n",
       "    <tr>\n",
       "      <th>EG</th>\n",
       "      <td>AFR</td>\n",
       "      <td>Egypt</td>\n",
       "      <td>45.0</td>\n",
       "      <td>False</td>\n",
       "    </tr>\n",
       "    <tr>\n",
       "      <th>ENG</th>\n",
       "      <td>EUR</td>\n",
       "      <td>England</td>\n",
       "      <td>NaN</td>\n",
       "      <td>True</td>\n",
       "    </tr>\n",
       "  </tbody>\n",
       "</table></div>"
      ],
      "text/plain": [
       "    Region_code   Country_Name  Cars per capita  Drives Right\n",
       "US         USCA  United States            809.0         False\n",
       "AUS       ASPAC      Australia            731.0          True\n",
       "JAP       ASPAC          Japan            588.0          True\n",
       "IN        ASPAC          India             18.0          True\n",
       "RU        ASPAC         Russia            200.0         False\n",
       "MOR       LATAM        Morocco             70.0         False\n",
       "EG          AFR          Egypt             45.0         False\n",
       "ENG         EUR        England              NaN          True"
      ]
     },
     "execution_count": 47,
     "metadata": {},
     "output_type": "execute_result"
    }
   ],
   "source": [
    "# Change the label of each column\n",
    "cars.columns = ['Region_code','Country_Name','Cars per capita','Drives Right']\n",
    "\n",
    "# Check the created dataframe\n",
    "cars"
   ]
  },
  {
   "cell_type": "markdown",
   "metadata": {},
   "source": [
    "Without the labels, it will be very difficult to remember the information stored in the columns. Now you can easily make sense from the entries stored in the dataframe. Let's now try to define multiple indices in a dataframe."
   ]
  },
  {
   "cell_type": "markdown",
   "metadata": {},
   "source": [
    "#### Multi-indexing in Pandas"
   ]
  },
  {
   "cell_type": "code",
   "execution_count": 53,
   "metadata": {},
   "outputs": [
    {
     "data": {
      "text/html": [
       "<div><div id=c7a061d5-a277-41d0-aaac-85eb28792d2e style=\"display:none; background-color:#9D6CFF; color:white; width:200px; height:30px; padding-left:5px; border-radius:4px; flex-direction:row; justify-content:space-around; align-items:center;\" onmouseover=\"this.style.backgroundColor='#BA9BF8'\" onmouseout=\"this.style.backgroundColor='#9D6CFF'\" onclick=\"window.commands?.execute('create-mitosheet-from-dataframe-output');\">See Full Dataframe in Mito</div> <script> if (window.commands.hasCommand('create-mitosheet-from-dataframe-output')) document.getElementById('c7a061d5-a277-41d0-aaac-85eb28792d2e').style.display = 'flex' </script> <table border=\"1\" class=\"dataframe\">\n",
       "  <thead>\n",
       "    <tr style=\"text-align: right;\">\n",
       "      <th></th>\n",
       "      <th></th>\n",
       "      <th>2</th>\n",
       "      <th>3</th>\n",
       "      <th>4</th>\n",
       "    </tr>\n",
       "    <tr>\n",
       "      <th>0</th>\n",
       "      <th>1</th>\n",
       "      <th></th>\n",
       "      <th></th>\n",
       "      <th></th>\n",
       "    </tr>\n",
       "  </thead>\n",
       "  <tbody>\n",
       "    <tr>\n",
       "      <th>USCA</th>\n",
       "      <th>US</th>\n",
       "      <td>United States</td>\n",
       "      <td>809.0</td>\n",
       "      <td>False</td>\n",
       "    </tr>\n",
       "    <tr>\n",
       "      <th rowspan=\"4\" valign=\"top\">ASPAC</th>\n",
       "      <th>AUS</th>\n",
       "      <td>Australia</td>\n",
       "      <td>731.0</td>\n",
       "      <td>True</td>\n",
       "    </tr>\n",
       "    <tr>\n",
       "      <th>JAP</th>\n",
       "      <td>Japan</td>\n",
       "      <td>588.0</td>\n",
       "      <td>True</td>\n",
       "    </tr>\n",
       "    <tr>\n",
       "      <th>IN</th>\n",
       "      <td>India</td>\n",
       "      <td>18.0</td>\n",
       "      <td>True</td>\n",
       "    </tr>\n",
       "    <tr>\n",
       "      <th>RU</th>\n",
       "      <td>Russia</td>\n",
       "      <td>200.0</td>\n",
       "      <td>False</td>\n",
       "    </tr>\n",
       "    <tr>\n",
       "      <th>LATAM</th>\n",
       "      <th>MOR</th>\n",
       "      <td>Morocco</td>\n",
       "      <td>70.0</td>\n",
       "      <td>False</td>\n",
       "    </tr>\n",
       "    <tr>\n",
       "      <th>AFR</th>\n",
       "      <th>EG</th>\n",
       "      <td>Egypt</td>\n",
       "      <td>45.0</td>\n",
       "      <td>False</td>\n",
       "    </tr>\n",
       "    <tr>\n",
       "      <th>EUR</th>\n",
       "      <th>ENG</th>\n",
       "      <td>England</td>\n",
       "      <td>NaN</td>\n",
       "      <td>True</td>\n",
       "    </tr>\n",
       "  </tbody>\n",
       "</table></div>"
      ],
      "text/plain": [
       "                       2      3      4\n",
       "0     1                               \n",
       "USCA  US   United States  809.0  False\n",
       "ASPAC AUS      Australia  731.0   True\n",
       "      JAP          Japan  588.0   True\n",
       "      IN           India   18.0   True\n",
       "      RU          Russia  200.0  False\n",
       "LATAM MOR        Morocco   70.0  False\n",
       "AFR   EG           Egypt   45.0  False\n",
       "EUR   ENG        England    NaN   True"
      ]
     },
     "execution_count": 53,
     "metadata": {},
     "output_type": "execute_result"
    }
   ],
   "source": [
    "# Import the data from a csv file with multiple indices\n",
    "cars = pd.read_csv(r'C:\\Users\\Dell\\Desktop\\Pandas\\cars.csv', header= None , index_col= [0,1] )\n",
    "\n",
    "# Check the created dataframe\n",
    "cars"
   ]
  },
  {
   "cell_type": "code",
   "execution_count": 55,
   "metadata": {},
   "outputs": [
    {
     "data": {
      "text/html": [
       "<div><div id=2c69b734-80d0-449d-8af6-0761cca83955 style=\"display:none; background-color:#9D6CFF; color:white; width:200px; height:30px; padding-left:5px; border-radius:4px; flex-direction:row; justify-content:space-around; align-items:center;\" onmouseover=\"this.style.backgroundColor='#BA9BF8'\" onmouseout=\"this.style.backgroundColor='#9D6CFF'\" onclick=\"window.commands?.execute('create-mitosheet-from-dataframe-output');\">See Full Dataframe in Mito</div> <script> if (window.commands.hasCommand('create-mitosheet-from-dataframe-output')) document.getElementById('2c69b734-80d0-449d-8af6-0761cca83955').style.display = 'flex' </script> <table border=\"1\" class=\"dataframe\">\n",
       "  <thead>\n",
       "    <tr style=\"text-align: right;\">\n",
       "      <th></th>\n",
       "      <th></th>\n",
       "      <th>Country_Name</th>\n",
       "      <th>Cars per capita</th>\n",
       "      <th>Drives Right</th>\n",
       "    </tr>\n",
       "    <tr>\n",
       "      <th>0</th>\n",
       "      <th>1</th>\n",
       "      <th></th>\n",
       "      <th></th>\n",
       "      <th></th>\n",
       "    </tr>\n",
       "  </thead>\n",
       "  <tbody>\n",
       "    <tr>\n",
       "      <th>USCA</th>\n",
       "      <th>US</th>\n",
       "      <td>United States</td>\n",
       "      <td>809.0</td>\n",
       "      <td>False</td>\n",
       "    </tr>\n",
       "    <tr>\n",
       "      <th rowspan=\"4\" valign=\"top\">ASPAC</th>\n",
       "      <th>AUS</th>\n",
       "      <td>Australia</td>\n",
       "      <td>731.0</td>\n",
       "      <td>True</td>\n",
       "    </tr>\n",
       "    <tr>\n",
       "      <th>JAP</th>\n",
       "      <td>Japan</td>\n",
       "      <td>588.0</td>\n",
       "      <td>True</td>\n",
       "    </tr>\n",
       "    <tr>\n",
       "      <th>IN</th>\n",
       "      <td>India</td>\n",
       "      <td>18.0</td>\n",
       "      <td>True</td>\n",
       "    </tr>\n",
       "    <tr>\n",
       "      <th>RU</th>\n",
       "      <td>Russia</td>\n",
       "      <td>200.0</td>\n",
       "      <td>False</td>\n",
       "    </tr>\n",
       "    <tr>\n",
       "      <th>LATAM</th>\n",
       "      <th>MOR</th>\n",
       "      <td>Morocco</td>\n",
       "      <td>70.0</td>\n",
       "      <td>False</td>\n",
       "    </tr>\n",
       "    <tr>\n",
       "      <th>AFR</th>\n",
       "      <th>EG</th>\n",
       "      <td>Egypt</td>\n",
       "      <td>45.0</td>\n",
       "      <td>False</td>\n",
       "    </tr>\n",
       "    <tr>\n",
       "      <th>EUR</th>\n",
       "      <th>ENG</th>\n",
       "      <td>England</td>\n",
       "      <td>NaN</td>\n",
       "      <td>True</td>\n",
       "    </tr>\n",
       "  </tbody>\n",
       "</table></div>"
      ],
      "text/plain": [
       "            Country_Name  Cars per capita  Drives Right\n",
       "0     1                                                \n",
       "USCA  US   United States            809.0         False\n",
       "ASPAC AUS      Australia            731.0          True\n",
       "      JAP          Japan            588.0          True\n",
       "      IN           India             18.0          True\n",
       "      RU          Russia            200.0         False\n",
       "LATAM MOR        Morocco             70.0         False\n",
       "AFR   EG           Egypt             45.0         False\n",
       "EUR   ENG        England              NaN          True"
      ]
     },
     "execution_count": 55,
     "metadata": {},
     "output_type": "execute_result"
    }
   ],
   "source": [
    "# Change the column names as above\n",
    "cars.columns = ['Country_Name','Cars per capita','Drives Right']\n",
    "\n",
    "\n",
    "# Check the created dataframe\n",
    "cars"
   ]
  },
  {
   "cell_type": "code",
   "execution_count": 56,
   "metadata": {},
   "outputs": [
    {
     "name": "stdout",
     "output_type": "stream",
     "text": [
      "[0, 1]\n"
     ]
    }
   ],
   "source": [
    "# Print the index labels\n",
    "print(cars.index.names)"
   ]
  },
  {
   "cell_type": "code",
   "execution_count": 57,
   "metadata": {},
   "outputs": [
    {
     "data": {
      "text/html": [
       "<div><div id=cc41ed73-5c9d-4cc5-af32-66592a9207e1 style=\"display:none; background-color:#9D6CFF; color:white; width:200px; height:30px; padding-left:5px; border-radius:4px; flex-direction:row; justify-content:space-around; align-items:center;\" onmouseover=\"this.style.backgroundColor='#BA9BF8'\" onmouseout=\"this.style.backgroundColor='#9D6CFF'\" onclick=\"window.commands?.execute('create-mitosheet-from-dataframe-output');\">See Full Dataframe in Mito</div> <script> if (window.commands.hasCommand('create-mitosheet-from-dataframe-output')) document.getElementById('cc41ed73-5c9d-4cc5-af32-66592a9207e1').style.display = 'flex' </script> <table border=\"1\" class=\"dataframe\">\n",
       "  <thead>\n",
       "    <tr style=\"text-align: right;\">\n",
       "      <th></th>\n",
       "      <th></th>\n",
       "      <th>Country_Name</th>\n",
       "      <th>Cars per capita</th>\n",
       "      <th>Drives Right</th>\n",
       "    </tr>\n",
       "    <tr>\n",
       "      <th>Region_code</th>\n",
       "      <th>Country_code</th>\n",
       "      <th></th>\n",
       "      <th></th>\n",
       "      <th></th>\n",
       "    </tr>\n",
       "  </thead>\n",
       "  <tbody>\n",
       "    <tr>\n",
       "      <th>USCA</th>\n",
       "      <th>US</th>\n",
       "      <td>United States</td>\n",
       "      <td>809.0</td>\n",
       "      <td>False</td>\n",
       "    </tr>\n",
       "    <tr>\n",
       "      <th rowspan=\"4\" valign=\"top\">ASPAC</th>\n",
       "      <th>AUS</th>\n",
       "      <td>Australia</td>\n",
       "      <td>731.0</td>\n",
       "      <td>True</td>\n",
       "    </tr>\n",
       "    <tr>\n",
       "      <th>JAP</th>\n",
       "      <td>Japan</td>\n",
       "      <td>588.0</td>\n",
       "      <td>True</td>\n",
       "    </tr>\n",
       "    <tr>\n",
       "      <th>IN</th>\n",
       "      <td>India</td>\n",
       "      <td>18.0</td>\n",
       "      <td>True</td>\n",
       "    </tr>\n",
       "    <tr>\n",
       "      <th>RU</th>\n",
       "      <td>Russia</td>\n",
       "      <td>200.0</td>\n",
       "      <td>False</td>\n",
       "    </tr>\n",
       "    <tr>\n",
       "      <th>LATAM</th>\n",
       "      <th>MOR</th>\n",
       "      <td>Morocco</td>\n",
       "      <td>70.0</td>\n",
       "      <td>False</td>\n",
       "    </tr>\n",
       "    <tr>\n",
       "      <th>AFR</th>\n",
       "      <th>EG</th>\n",
       "      <td>Egypt</td>\n",
       "      <td>45.0</td>\n",
       "      <td>False</td>\n",
       "    </tr>\n",
       "    <tr>\n",
       "      <th>EUR</th>\n",
       "      <th>ENG</th>\n",
       "      <td>England</td>\n",
       "      <td>NaN</td>\n",
       "      <td>True</td>\n",
       "    </tr>\n",
       "  </tbody>\n",
       "</table></div>"
      ],
      "text/plain": [
       "                           Country_Name  Cars per capita  Drives Right\n",
       "Region_code Country_code                                              \n",
       "USCA        US            United States            809.0         False\n",
       "ASPAC       AUS               Australia            731.0          True\n",
       "            JAP                   Japan            588.0          True\n",
       "            IN                    India             18.0          True\n",
       "            RU                   Russia            200.0         False\n",
       "LATAM       MOR                 Morocco             70.0         False\n",
       "AFR         EG                    Egypt             45.0         False\n",
       "EUR         ENG                 England              NaN          True"
      ]
     },
     "execution_count": 57,
     "metadata": {},
     "output_type": "execute_result"
    }
   ],
   "source": [
    "# Change the index labels: 0 - Region_code, 1 - Country_code\n",
    "\n",
    "cars.index.names = ['Region_code','Country_code']\n",
    "# Check the created dataframe\n",
    "cars"
   ]
  },
  {
   "cell_type": "code",
   "execution_count": 59,
   "metadata": {},
   "outputs": [
    {
     "data": {
      "text/plain": [
       "MultiIndex([( 'USCA',  'US'),\n",
       "            ('ASPAC', 'AUS'),\n",
       "            ('ASPAC', 'JAP'),\n",
       "            ('ASPAC',  'IN'),\n",
       "            ('ASPAC',  'RU'),\n",
       "            ('LATAM', 'MOR'),\n",
       "            (  'AFR',  'EG'),\n",
       "            (  'EUR', 'ENG')],\n",
       "           names=['Region_code', 'Country_code'])"
      ]
     },
     "execution_count": 59,
     "metadata": {},
     "output_type": "execute_result"
    }
   ],
   "source": [
    "# Print the inforamtion of the index in the dataframe\n",
    "\n",
    "cars.index"
   ]
  },
  {
   "cell_type": "markdown",
   "metadata": {},
   "source": [
    "Multi-indexing is very useful to establish a hierarchy in the entries. It helps to segregate data into different categories and makes it easier to analyse the data."
   ]
  },
  {
   "cell_type": "code",
   "execution_count": null,
   "metadata": {},
   "outputs": [],
   "source": []
  },
  {
   "cell_type": "markdown",
   "metadata": {},
   "source": [
    "This function is used to change the name of the index. You can simply provide a new name as follows: df.index.name = 'new_name'."
   ]
  },
  {
   "cell_type": "code",
   "execution_count": null,
   "metadata": {},
   "outputs": [],
   "source": []
  },
  {
   "cell_type": "code",
   "execution_count": null,
   "metadata": {},
   "outputs": [],
   "source": []
  },
  {
   "cell_type": "code",
   "execution_count": null,
   "metadata": {},
   "outputs": [],
   "source": []
  }
 ],
 "metadata": {
  "kernelspec": {
   "display_name": "Python 3",
   "language": "python",
   "name": "python3"
  },
  "language_info": {
   "codemirror_mode": {
    "name": "ipython",
    "version": 3
   },
   "file_extension": ".py",
   "mimetype": "text/x-python",
   "name": "python",
   "nbconvert_exporter": "python",
   "pygments_lexer": "ipython3",
   "version": "3.10.2"
  }
 },
 "nbformat": 4,
 "nbformat_minor": 2
}
